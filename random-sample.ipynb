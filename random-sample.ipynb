{
 "cells": [
  {
   "cell_type": "code",
   "execution_count": 1,
   "id": "bce0b671",
   "metadata": {},
   "outputs": [],
   "source": [
    "import os\n",
    "os.chdir('/root/evaluate-saliency-5/GPNN')"
   ]
  },
  {
   "cell_type": "code",
   "execution_count": null,
   "id": "49df06c6",
   "metadata": {},
   "outputs": [
    {
     "name": "stdout",
     "output_type": "stream",
     "text": [
      "cuda initialized!\n",
      "faiss initialized!\n"
     ]
    },
    {
     "name": "stderr",
     "output_type": "stream",
     "text": [
      "/root/evaluate-saliency-5/GPNN/model/gpnn.py:56: FutureWarning: `multichannel` is a deprecated argument name for `pyramid_gaussian`. It will be removed in version 1.0. Please use `channel_axis` instead.\n",
      "  tuple(pyramid_gaussian(self.input_img, pyramid_depth, downscale=self.R, multichannel=True)))\n"
     ]
    }
   ],
   "source": [
    "# faiss doesnt work without gpu\n",
    "# !python random_sample.py -in database/balloons.png --faiss\n",
    "import skimage.io\n",
    "original_imname = 'images/ILSVRC2012_val_00000013.JPEG'\n",
    "output_imname = os.path.join('output',os.path.basename(original_imname))\n",
    "output_imname_root,ext = output_imname.split('.')\n",
    "output_imname = output_imname_root + '_random_sample' +'.png'\n",
    "original_im = skimage.io.imread(original_imname)\n",
    "# !python random_sample.py -in  {original_imname} --faiss\n",
    "# assert False\n",
    "# from model.my_gpnn import gpnn\n",
    "from model.gpnn import gpnn\n",
    "config = {\n",
    "    'out_dir':'.',\n",
    "    'iters':10,\n",
    "    'coarse_dim':14,\n",
    "    'out_size':0,\n",
    "    'patch_size':7,\n",
    "    'stride':1,\n",
    "    'pyramid_ratio':4/3,\n",
    "    'faiss':True,\n",
    "    'no_cuda':False,\n",
    "    #---------------------------------------------\n",
    "    'in':None,\n",
    "    'sigma':0.75,\n",
    "    'alpha':0.005,\n",
    "    'task':'random_sample',\n",
    "    #---------------------------------------------\n",
    "#     'input_img':original_im,\n",
    "    'input_img':original_imname,\n",
    "\n",
    "}\n",
    "\n",
    "model = gpnn(config)\n",
    "output_im = model.run(to_save=False)\n",
    "    \n",
    "\n",
    "# output_im = skimage.io.imread(output_imname)\n",
    "\n",
    "\n",
    "plt.figure()\n",
    "plt.imshow(original_im)\n",
    "plt.show()\n",
    "\n",
    "plt.figure()\n",
    "plt.imshow(output_im)\n",
    "plt.show()\n"
   ]
  },
  {
   "cell_type": "code",
   "execution_count": null,
   "id": "9e8c5bbe",
   "metadata": {},
   "outputs": [],
   "source": [
    "%debug"
   ]
  }
 ],
 "metadata": {
  "kernelspec": {
   "display_name": "Python 3 (ipykernel)",
   "language": "python",
   "name": "python3"
  },
  "language_info": {
   "codemirror_mode": {
    "name": "ipython",
    "version": 3
   },
   "file_extension": ".py",
   "mimetype": "text/x-python",
   "name": "python",
   "nbconvert_exporter": "python",
   "pygments_lexer": "ipython3",
   "version": "3.9.12"
  },
  "varInspector": {
   "cols": {
    "lenName": 16,
    "lenType": 16,
    "lenVar": 40
   },
   "kernels_config": {
    "python": {
     "delete_cmd_postfix": "",
     "delete_cmd_prefix": "del ",
     "library": "var_list.py",
     "varRefreshCmd": "print(var_dic_list())"
    },
    "r": {
     "delete_cmd_postfix": ") ",
     "delete_cmd_prefix": "rm(",
     "library": "var_list.r",
     "varRefreshCmd": "cat(var_dic_list()) "
    }
   },
   "types_to_exclude": [
    "module",
    "function",
    "builtin_function_or_method",
    "instance",
    "_Feature"
   ],
   "window_display": false
  },
  "vscode": {
   "interpreter": {
    "hash": "31f2aee4e71d21fbe5cf8b01ff0e069b9275f58929596ceb00d14d90e3e16cd6"
   }
  }
 },
 "nbformat": 4,
 "nbformat_minor": 5
}
